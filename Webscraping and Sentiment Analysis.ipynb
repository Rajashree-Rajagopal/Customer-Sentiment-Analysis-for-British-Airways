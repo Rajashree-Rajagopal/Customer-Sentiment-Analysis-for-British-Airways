{
 "cells": [
  {
   "cell_type": "markdown",
   "metadata": {},
   "source": [
    "## Web scraping and analysis\n",
    "\n",
    "### Scraping data from Skytrax\n",
    "\n",
    "Source: [https://www.airlinequality.com/airline-reviews/british-airways] \n",
    "`Python` and `BeautifulSoup` are used to collect all the links to the reviews and then to collect the text data on each of the individual review links"
   ]
  },
  {
   "cell_type": "code",
   "execution_count": 1,
   "metadata": {},
   "outputs": [],
   "source": [
    "import requests\n",
    "from bs4 import BeautifulSoup\n",
    "import pandas as pd"
   ]
  },
  {
   "cell_type": "code",
   "execution_count": 2,
   "metadata": {},
   "outputs": [
    {
     "name": "stdout",
     "output_type": "stream",
     "text": [
      "Scraping page 1\n",
      "   ---> 100 total reviews\n",
      "Scraping page 2\n",
      "   ---> 200 total reviews\n",
      "Scraping page 3\n",
      "   ---> 300 total reviews\n",
      "Scraping page 4\n",
      "   ---> 400 total reviews\n",
      "Scraping page 5\n",
      "   ---> 500 total reviews\n",
      "Scraping page 6\n",
      "   ---> 600 total reviews\n",
      "Scraping page 7\n",
      "   ---> 700 total reviews\n",
      "Scraping page 8\n",
      "   ---> 800 total reviews\n",
      "Scraping page 9\n",
      "   ---> 900 total reviews\n",
      "Scraping page 10\n",
      "   ---> 1000 total reviews\n",
      "Scraping page 11\n",
      "   ---> 1100 total reviews\n",
      "Scraping page 12\n",
      "   ---> 1200 total reviews\n",
      "Scraping page 13\n",
      "   ---> 1300 total reviews\n",
      "Scraping page 14\n",
      "   ---> 1400 total reviews\n",
      "Scraping page 15\n",
      "   ---> 1500 total reviews\n",
      "Scraping page 16\n",
      "   ---> 1600 total reviews\n",
      "Scraping page 17\n",
      "   ---> 1700 total reviews\n",
      "Scraping page 18\n",
      "   ---> 1800 total reviews\n",
      "Scraping page 19\n",
      "   ---> 1900 total reviews\n",
      "Scraping page 20\n",
      "   ---> 2000 total reviews\n"
     ]
    }
   ],
   "source": [
    "base_url = \"https://www.airlinequality.com/airline-reviews/british-airways\"\n",
    "pages = 20\n",
    "page_size = 100\n",
    "\n",
    "reviews = []\n",
    "\n",
    "for i in range(1, pages+1):\n",
    "\n",
    "    print(f\"Scraping page {i}\")\n",
    "\n",
    "    # Create URL to collect links from paginated data\n",
    "    url = f\"{base_url}/page/{i}/?sortby=post_date%3ADesc&pagesize={page_size}\"\n",
    "\n",
    "    # Collect HTML data from this page\n",
    "    response = requests.get(url)\n",
    "\n",
    "    # Parse content\n",
    "    content = response.content\n",
    "    parsed_content = BeautifulSoup(content, 'html.parser')\n",
    "    for para in parsed_content.find_all(\"div\", {\"class\": \"text_content\"}):\n",
    "        reviews.append(para.get_text())\n",
    "    \n",
    "    print(f\"   ---> {len(reviews)} total reviews\")"
   ]
  },
  {
   "cell_type": "code",
   "execution_count": 3,
   "metadata": {},
   "outputs": [
    {
     "data": {
      "text/html": [
       "<div>\n",
       "<style scoped>\n",
       "    .dataframe tbody tr th:only-of-type {\n",
       "        vertical-align: middle;\n",
       "    }\n",
       "\n",
       "    .dataframe tbody tr th {\n",
       "        vertical-align: top;\n",
       "    }\n",
       "\n",
       "    .dataframe thead th {\n",
       "        text-align: right;\n",
       "    }\n",
       "</style>\n",
       "<table border=\"1\" class=\"dataframe\">\n",
       "  <thead>\n",
       "    <tr style=\"text-align: right;\">\n",
       "      <th></th>\n",
       "      <th>reviews</th>\n",
       "    </tr>\n",
       "  </thead>\n",
       "  <tbody>\n",
       "    <tr>\n",
       "      <th>0</th>\n",
       "      <td>✅ Trip Verified |   Flight mainly let down by ...</td>\n",
       "    </tr>\n",
       "    <tr>\n",
       "      <th>1</th>\n",
       "      <td>✅ Trip Verified |   Another awful experience b...</td>\n",
       "    </tr>\n",
       "    <tr>\n",
       "      <th>2</th>\n",
       "      <td>✅ Trip Verified |   The service was rude, full...</td>\n",
       "    </tr>\n",
       "    <tr>\n",
       "      <th>3</th>\n",
       "      <td>✅ Trip Verified |   This flight was a joke. Th...</td>\n",
       "    </tr>\n",
       "    <tr>\n",
       "      <th>4</th>\n",
       "      <td>✅ Trip Verified |   This time British Airways ...</td>\n",
       "    </tr>\n",
       "  </tbody>\n",
       "</table>\n",
       "</div>"
      ],
      "text/plain": [
       "                                             reviews\n",
       "0  ✅ Trip Verified |   Flight mainly let down by ...\n",
       "1  ✅ Trip Verified |   Another awful experience b...\n",
       "2  ✅ Trip Verified |   The service was rude, full...\n",
       "3  ✅ Trip Verified |   This flight was a joke. Th...\n",
       "4  ✅ Trip Verified |   This time British Airways ..."
      ]
     },
     "execution_count": 3,
     "metadata": {},
     "output_type": "execute_result"
    }
   ],
   "source": [
    "df = pd.DataFrame()\n",
    "df[\"reviews\"] = reviews\n",
    "df.head()"
   ]
  },
  {
   "cell_type": "markdown",
   "metadata": {},
   "source": [
    "Removing the parts before | in the reviews column"
   ]
  },
  {
   "cell_type": "code",
   "execution_count": 4,
   "metadata": {},
   "outputs": [
    {
     "data": {
      "text/html": [
       "<div>\n",
       "<style scoped>\n",
       "    .dataframe tbody tr th:only-of-type {\n",
       "        vertical-align: middle;\n",
       "    }\n",
       "\n",
       "    .dataframe tbody tr th {\n",
       "        vertical-align: top;\n",
       "    }\n",
       "\n",
       "    .dataframe thead th {\n",
       "        text-align: right;\n",
       "    }\n",
       "</style>\n",
       "<table border=\"1\" class=\"dataframe\">\n",
       "  <thead>\n",
       "    <tr style=\"text-align: right;\">\n",
       "      <th></th>\n",
       "      <th>reviews</th>\n",
       "    </tr>\n",
       "  </thead>\n",
       "  <tbody>\n",
       "    <tr>\n",
       "      <th>0</th>\n",
       "      <td>Flight mainly let down by a disagreeable fl...</td>\n",
       "    </tr>\n",
       "    <tr>\n",
       "      <th>1</th>\n",
       "      <td>Another awful experience by British Airways...</td>\n",
       "    </tr>\n",
       "    <tr>\n",
       "      <th>2</th>\n",
       "      <td>The service was rude, full of attitude to m...</td>\n",
       "    </tr>\n",
       "    <tr>\n",
       "      <th>3</th>\n",
       "      <td>This flight was a joke. There was four peop...</td>\n",
       "    </tr>\n",
       "    <tr>\n",
       "      <th>4</th>\n",
       "      <td>This time British Airways managed to get ev...</td>\n",
       "    </tr>\n",
       "    <tr>\n",
       "      <th>...</th>\n",
       "      <td>...</td>\n",
       "    </tr>\n",
       "    <tr>\n",
       "      <th>1995</th>\n",
       "      <td>Gatwick to Mauritius. 12 hour flight delayed...</td>\n",
       "    </tr>\n",
       "    <tr>\n",
       "      <th>1996</th>\n",
       "      <td>San Diego to London, an excellent flight wit...</td>\n",
       "    </tr>\n",
       "    <tr>\n",
       "      <th>1997</th>\n",
       "      <td>Flew British Airways from London Heathrow to...</td>\n",
       "    </tr>\n",
       "    <tr>\n",
       "      <th>1998</th>\n",
       "      <td>Amsterdam to Gatwick was the usual short hau...</td>\n",
       "    </tr>\n",
       "    <tr>\n",
       "      <th>1999</th>\n",
       "      <td>My last few experiences with British Airways...</td>\n",
       "    </tr>\n",
       "  </tbody>\n",
       "</table>\n",
       "<p>2000 rows × 1 columns</p>\n",
       "</div>"
      ],
      "text/plain": [
       "                                                reviews\n",
       "0        Flight mainly let down by a disagreeable fl...\n",
       "1        Another awful experience by British Airways...\n",
       "2        The service was rude, full of attitude to m...\n",
       "3        This flight was a joke. There was four peop...\n",
       "4        This time British Airways managed to get ev...\n",
       "...                                                 ...\n",
       "1995    Gatwick to Mauritius. 12 hour flight delayed...\n",
       "1996    San Diego to London, an excellent flight wit...\n",
       "1997    Flew British Airways from London Heathrow to...\n",
       "1998    Amsterdam to Gatwick was the usual short hau...\n",
       "1999    My last few experiences with British Airways...\n",
       "\n",
       "[2000 rows x 1 columns]"
      ]
     },
     "execution_count": 4,
     "metadata": {},
     "output_type": "execute_result"
    }
   ],
   "source": [
    "df.reviews= df.reviews.str.split('|',expand=True)[1]\n",
    "df"
   ]
  },
  {
   "cell_type": "markdown",
   "metadata": {},
   "source": [
    "### Cleaning the text"
   ]
  },
  {
   "cell_type": "code",
   "execution_count": 5,
   "metadata": {},
   "outputs": [
    {
     "data": {
      "text/html": [
       "<div>\n",
       "<style scoped>\n",
       "    .dataframe tbody tr th:only-of-type {\n",
       "        vertical-align: middle;\n",
       "    }\n",
       "\n",
       "    .dataframe tbody tr th {\n",
       "        vertical-align: top;\n",
       "    }\n",
       "\n",
       "    .dataframe thead th {\n",
       "        text-align: right;\n",
       "    }\n",
       "</style>\n",
       "<table border=\"1\" class=\"dataframe\">\n",
       "  <thead>\n",
       "    <tr style=\"text-align: right;\">\n",
       "      <th></th>\n",
       "      <th>reviews</th>\n",
       "      <th>Cleaned Reviews</th>\n",
       "    </tr>\n",
       "  </thead>\n",
       "  <tbody>\n",
       "    <tr>\n",
       "      <th>0</th>\n",
       "      <td>Flight mainly let down by a disagreeable fl...</td>\n",
       "      <td>Flight mainly let down by a disagreeable flig...</td>\n",
       "    </tr>\n",
       "    <tr>\n",
       "      <th>1</th>\n",
       "      <td>Another awful experience by British Airways...</td>\n",
       "      <td>Another awful experience by British Airways T...</td>\n",
       "    </tr>\n",
       "    <tr>\n",
       "      <th>2</th>\n",
       "      <td>The service was rude, full of attitude to m...</td>\n",
       "      <td>The service was rude full of attitude to me t...</td>\n",
       "    </tr>\n",
       "    <tr>\n",
       "      <th>3</th>\n",
       "      <td>This flight was a joke. There was four peop...</td>\n",
       "      <td>This flight was a joke There was four people ...</td>\n",
       "    </tr>\n",
       "    <tr>\n",
       "      <th>4</th>\n",
       "      <td>This time British Airways managed to get ev...</td>\n",
       "      <td>This time British Airways managed to get ever...</td>\n",
       "    </tr>\n",
       "  </tbody>\n",
       "</table>\n",
       "</div>"
      ],
      "text/plain": [
       "                                             reviews  \\\n",
       "0     Flight mainly let down by a disagreeable fl...   \n",
       "1     Another awful experience by British Airways...   \n",
       "2     The service was rude, full of attitude to m...   \n",
       "3     This flight was a joke. There was four peop...   \n",
       "4     This time British Airways managed to get ev...   \n",
       "\n",
       "                                     Cleaned Reviews  \n",
       "0   Flight mainly let down by a disagreeable flig...  \n",
       "1   Another awful experience by British Airways T...  \n",
       "2   The service was rude full of attitude to me t...  \n",
       "3   This flight was a joke There was four people ...  \n",
       "4   This time British Airways managed to get ever...  "
      ]
     },
     "execution_count": 5,
     "metadata": {},
     "output_type": "execute_result"
    }
   ],
   "source": [
    "import re\n",
    "\n",
    "# Define a function to clean the text\n",
    "def clean(text):\n",
    "# Removes all special characters and numericals leaving the alphabets\n",
    "    text = re.sub('[^A-Za-z]+', ' ', str(text))\n",
    "    return text\n",
    "\n",
    "# Cleaning the text in the review column\n",
    "df['Cleaned Reviews'] = df['reviews'].apply(clean)\n",
    "df.head()"
   ]
  },
  {
   "cell_type": "markdown",
   "metadata": {},
   "source": [
    "### Sentiment Analysis of customer reviews"
   ]
  },
  {
   "cell_type": "code",
   "execution_count": 6,
   "metadata": {},
   "outputs": [
    {
     "name": "stderr",
     "output_type": "stream",
     "text": [
      "[nltk_data] Downloading package punkt to\n",
      "[nltk_data]     C:\\Users\\rajas\\AppData\\Roaming\\nltk_data...\n",
      "[nltk_data]   Package punkt is already up-to-date!\n",
      "[nltk_data] Downloading package stopwords to\n",
      "[nltk_data]     C:\\Users\\rajas\\AppData\\Roaming\\nltk_data...\n",
      "[nltk_data]   Package stopwords is already up-to-date!\n",
      "[nltk_data] Downloading package wordnet to\n",
      "[nltk_data]     C:\\Users\\rajas\\AppData\\Roaming\\nltk_data...\n",
      "[nltk_data]   Package wordnet is already up-to-date!\n"
     ]
    }
   ],
   "source": [
    "import nltk #natural language toolkit\n",
    "nltk.download('punkt') #punkt is a pre-trained model that helps you tokenize words and sentences\n",
    "\n",
    "#Tokenization\n",
    "from nltk.tokenize import word_tokenize \n",
    "\n",
    "#POS tagging\n",
    "from nltk import pos_tag\n",
    "\n",
    "#Stopwords\n",
    "nltk.download('stopwords')\n",
    "from nltk.corpus import stopwords\n",
    "\n",
    "nltk.download('wordnet')\n",
    "from nltk.corpus import wordnet"
   ]
  },
  {
   "cell_type": "code",
   "execution_count": 7,
   "metadata": {},
   "outputs": [
    {
     "name": "stderr",
     "output_type": "stream",
     "text": [
      "[nltk_data] Downloading package omw-1.4 to\n",
      "[nltk_data]     C:\\Users\\rajas\\AppData\\Roaming\\nltk_data...\n",
      "[nltk_data]   Package omw-1.4 is already up-to-date!\n",
      "[nltk_data] Downloading package averaged_perceptron_tagger_eng to\n",
      "[nltk_data]     C:\\Users\\rajas\\AppData\\Roaming\\nltk_data...\n",
      "[nltk_data]   Package averaged_perceptron_tagger_eng is already up-to-\n",
      "[nltk_data]       date!\n"
     ]
    },
    {
     "data": {
      "text/plain": [
       "True"
      ]
     },
     "execution_count": 7,
     "metadata": {},
     "output_type": "execute_result"
    }
   ],
   "source": [
    "nltk.download('omw-1.4') # Open Multilingual Wordnet\n",
    "nltk.download('averaged_perceptron_tagger_eng') # POS tagger resource for English"
   ]
  },
  {
   "cell_type": "code",
   "execution_count": 8,
   "metadata": {},
   "outputs": [],
   "source": [
    "# POS tagger dictionary\n",
    "#Maps the POS tag to the first letter of the wordnet POS types\n",
    "pos_dict = {'J':wordnet.ADJ, 'V':wordnet.VERB, 'N':wordnet.NOUN, 'R':wordnet.ADV}\n",
    "\n",
    "def token_stop_pos(text):\n",
    "    tags = pos_tag(word_tokenize(text))\n",
    "    #print(tags)\n",
    "    newlist = []\n",
    "    for word, tag in tags:\n",
    "        if word.lower() not in set(stopwords.words('english')): #excluding stopwords\n",
    "          newlist.append(tuple([word, pos_dict.get(tag[0])]))\n",
    "    return newlist\n",
    "#token_stop_pos(\"That is a beautiful car which runs smoothly\")"
   ]
  },
  {
   "cell_type": "code",
   "execution_count": 9,
   "metadata": {},
   "outputs": [
    {
     "data": {
      "text/html": [
       "<div>\n",
       "<style scoped>\n",
       "    .dataframe tbody tr th:only-of-type {\n",
       "        vertical-align: middle;\n",
       "    }\n",
       "\n",
       "    .dataframe tbody tr th {\n",
       "        vertical-align: top;\n",
       "    }\n",
       "\n",
       "    .dataframe thead th {\n",
       "        text-align: right;\n",
       "    }\n",
       "</style>\n",
       "<table border=\"1\" class=\"dataframe\">\n",
       "  <thead>\n",
       "    <tr style=\"text-align: right;\">\n",
       "      <th></th>\n",
       "      <th>reviews</th>\n",
       "      <th>Cleaned Reviews</th>\n",
       "      <th>POS tagged</th>\n",
       "    </tr>\n",
       "  </thead>\n",
       "  <tbody>\n",
       "    <tr>\n",
       "      <th>0</th>\n",
       "      <td>Flight mainly let down by a disagreeable fl...</td>\n",
       "      <td>Flight mainly let down by a disagreeable flig...</td>\n",
       "      <td>[(Flight, n), (mainly, r), (let, v), (disagree...</td>\n",
       "    </tr>\n",
       "    <tr>\n",
       "      <th>1</th>\n",
       "      <td>Another awful experience by British Airways...</td>\n",
       "      <td>Another awful experience by British Airways T...</td>\n",
       "      <td>[(Another, None), (awful, a), (experience, n),...</td>\n",
       "    </tr>\n",
       "    <tr>\n",
       "      <th>2</th>\n",
       "      <td>The service was rude, full of attitude to m...</td>\n",
       "      <td>The service was rude full of attitude to me t...</td>\n",
       "      <td>[(service, n), (rude, a), (full, a), (attitude...</td>\n",
       "    </tr>\n",
       "    <tr>\n",
       "      <th>3</th>\n",
       "      <td>This flight was a joke. There was four peop...</td>\n",
       "      <td>This flight was a joke There was four people ...</td>\n",
       "      <td>[(flight, n), (joke, n), (four, None), (people...</td>\n",
       "    </tr>\n",
       "    <tr>\n",
       "      <th>4</th>\n",
       "      <td>This time British Airways managed to get ev...</td>\n",
       "      <td>This time British Airways managed to get ever...</td>\n",
       "      <td>[(time, n), (British, a), (Airways, n), (manag...</td>\n",
       "    </tr>\n",
       "  </tbody>\n",
       "</table>\n",
       "</div>"
      ],
      "text/plain": [
       "                                             reviews  \\\n",
       "0     Flight mainly let down by a disagreeable fl...   \n",
       "1     Another awful experience by British Airways...   \n",
       "2     The service was rude, full of attitude to m...   \n",
       "3     This flight was a joke. There was four peop...   \n",
       "4     This time British Airways managed to get ev...   \n",
       "\n",
       "                                     Cleaned Reviews  \\\n",
       "0   Flight mainly let down by a disagreeable flig...   \n",
       "1   Another awful experience by British Airways T...   \n",
       "2   The service was rude full of attitude to me t...   \n",
       "3   This flight was a joke There was four people ...   \n",
       "4   This time British Airways managed to get ever...   \n",
       "\n",
       "                                          POS tagged  \n",
       "0  [(Flight, n), (mainly, r), (let, v), (disagree...  \n",
       "1  [(Another, None), (awful, a), (experience, n),...  \n",
       "2  [(service, n), (rude, a), (full, a), (attitude...  \n",
       "3  [(flight, n), (joke, n), (four, None), (people...  \n",
       "4  [(time, n), (British, a), (Airways, n), (manag...  "
      ]
     },
     "execution_count": 9,
     "metadata": {},
     "output_type": "execute_result"
    }
   ],
   "source": [
    "df['POS tagged'] = df['Cleaned Reviews'].apply(token_stop_pos)\n",
    "df.head()"
   ]
  },
  {
   "cell_type": "markdown",
   "metadata": {},
   "source": [
    "### Obtaining Stem words"
   ]
  },
  {
   "cell_type": "code",
   "execution_count": 10,
   "metadata": {},
   "outputs": [],
   "source": [
    "# Obtaining the stem words – Lemmatization\n",
    "\n",
    "from nltk.stem import WordNetLemmatizer\n",
    "wordnet_lemmatizer = WordNetLemmatizer()\n",
    "def lemmatize(pos_data):\n",
    "    lemmatized_output = \" \"\n",
    "    for word, pos in pos_data:\n",
    "     if not pos: #if the POS tag is not available word itself used as a lemma\n",
    "        lemma = word\n",
    "        lemmatized_output = lemmatized_output + \" \" + lemma\n",
    "     else:\n",
    "        lemma = wordnet_lemmatizer.lemmatize(word, pos=pos)\n",
    "        lemmatized_output = lemmatized_output + \" \" + lemma\n",
    "    return lemmatized_output"
   ]
  },
  {
   "cell_type": "code",
   "execution_count": 11,
   "metadata": {},
   "outputs": [
    {
     "data": {
      "text/html": [
       "<div>\n",
       "<style scoped>\n",
       "    .dataframe tbody tr th:only-of-type {\n",
       "        vertical-align: middle;\n",
       "    }\n",
       "\n",
       "    .dataframe tbody tr th {\n",
       "        vertical-align: top;\n",
       "    }\n",
       "\n",
       "    .dataframe thead th {\n",
       "        text-align: right;\n",
       "    }\n",
       "</style>\n",
       "<table border=\"1\" class=\"dataframe\">\n",
       "  <thead>\n",
       "    <tr style=\"text-align: right;\">\n",
       "      <th></th>\n",
       "      <th>reviews</th>\n",
       "      <th>Cleaned Reviews</th>\n",
       "      <th>POS tagged</th>\n",
       "      <th>Lemma</th>\n",
       "    </tr>\n",
       "  </thead>\n",
       "  <tbody>\n",
       "    <tr>\n",
       "      <th>0</th>\n",
       "      <td>Flight mainly let down by a disagreeable fl...</td>\n",
       "      <td>Flight mainly let down by a disagreeable flig...</td>\n",
       "      <td>[(Flight, n), (mainly, r), (let, v), (disagree...</td>\n",
       "      <td>Flight mainly let disagreeable flight attend...</td>\n",
       "    </tr>\n",
       "    <tr>\n",
       "      <th>1</th>\n",
       "      <td>Another awful experience by British Airways...</td>\n",
       "      <td>Another awful experience by British Airways T...</td>\n",
       "      <td>[(Another, None), (awful, a), (experience, n),...</td>\n",
       "      <td>Another awful experience British Airways fli...</td>\n",
       "    </tr>\n",
       "    <tr>\n",
       "      <th>2</th>\n",
       "      <td>The service was rude, full of attitude to m...</td>\n",
       "      <td>The service was rude full of attitude to me t...</td>\n",
       "      <td>[(service, n), (rude, a), (full, a), (attitude...</td>\n",
       "      <td>service rude full attitude food poorly servi...</td>\n",
       "    </tr>\n",
       "    <tr>\n",
       "      <th>3</th>\n",
       "      <td>This flight was a joke. There was four peop...</td>\n",
       "      <td>This flight was a joke There was four people ...</td>\n",
       "      <td>[(flight, n), (joke, n), (four, None), (people...</td>\n",
       "      <td>flight joke four people business class inclu...</td>\n",
       "    </tr>\n",
       "    <tr>\n",
       "      <th>4</th>\n",
       "      <td>This time British Airways managed to get ev...</td>\n",
       "      <td>This time British Airways managed to get ever...</td>\n",
       "      <td>[(time, n), (British, a), (Airways, n), (manag...</td>\n",
       "      <td>time British Airways manage get everything r...</td>\n",
       "    </tr>\n",
       "  </tbody>\n",
       "</table>\n",
       "</div>"
      ],
      "text/plain": [
       "                                             reviews  \\\n",
       "0     Flight mainly let down by a disagreeable fl...   \n",
       "1     Another awful experience by British Airways...   \n",
       "2     The service was rude, full of attitude to m...   \n",
       "3     This flight was a joke. There was four peop...   \n",
       "4     This time British Airways managed to get ev...   \n",
       "\n",
       "                                     Cleaned Reviews  \\\n",
       "0   Flight mainly let down by a disagreeable flig...   \n",
       "1   Another awful experience by British Airways T...   \n",
       "2   The service was rude full of attitude to me t...   \n",
       "3   This flight was a joke There was four people ...   \n",
       "4   This time British Airways managed to get ever...   \n",
       "\n",
       "                                          POS tagged  \\\n",
       "0  [(Flight, n), (mainly, r), (let, v), (disagree...   \n",
       "1  [(Another, None), (awful, a), (experience, n),...   \n",
       "2  [(service, n), (rude, a), (full, a), (attitude...   \n",
       "3  [(flight, n), (joke, n), (four, None), (people...   \n",
       "4  [(time, n), (British, a), (Airways, n), (manag...   \n",
       "\n",
       "                                               Lemma  \n",
       "0    Flight mainly let disagreeable flight attend...  \n",
       "1    Another awful experience British Airways fli...  \n",
       "2    service rude full attitude food poorly servi...  \n",
       "3    flight joke four people business class inclu...  \n",
       "4    time British Airways manage get everything r...  "
      ]
     },
     "execution_count": 11,
     "metadata": {},
     "output_type": "execute_result"
    }
   ],
   "source": [
    "df['Lemma'] = df['POS tagged'].apply(lemmatize)\n",
    "df.head()"
   ]
  },
  {
   "cell_type": "code",
   "execution_count": 15,
   "metadata": {},
   "outputs": [
    {
     "data": {
      "text/html": [
       "<div>\n",
       "<style scoped>\n",
       "    .dataframe tbody tr th:only-of-type {\n",
       "        vertical-align: middle;\n",
       "    }\n",
       "\n",
       "    .dataframe tbody tr th {\n",
       "        vertical-align: top;\n",
       "    }\n",
       "\n",
       "    .dataframe thead th {\n",
       "        text-align: right;\n",
       "    }\n",
       "</style>\n",
       "<table border=\"1\" class=\"dataframe\">\n",
       "  <thead>\n",
       "    <tr style=\"text-align: right;\">\n",
       "      <th></th>\n",
       "      <th>reviews</th>\n",
       "      <th>Lemma</th>\n",
       "    </tr>\n",
       "  </thead>\n",
       "  <tbody>\n",
       "    <tr>\n",
       "      <th>0</th>\n",
       "      <td>Flight mainly let down by a disagreeable fl...</td>\n",
       "      <td>Flight mainly let disagreeable flight attend...</td>\n",
       "    </tr>\n",
       "    <tr>\n",
       "      <th>1</th>\n",
       "      <td>Another awful experience by British Airways...</td>\n",
       "      <td>Another awful experience British Airways fli...</td>\n",
       "    </tr>\n",
       "    <tr>\n",
       "      <th>2</th>\n",
       "      <td>The service was rude, full of attitude to m...</td>\n",
       "      <td>service rude full attitude food poorly servi...</td>\n",
       "    </tr>\n",
       "    <tr>\n",
       "      <th>3</th>\n",
       "      <td>This flight was a joke. There was four peop...</td>\n",
       "      <td>flight joke four people business class inclu...</td>\n",
       "    </tr>\n",
       "    <tr>\n",
       "      <th>4</th>\n",
       "      <td>This time British Airways managed to get ev...</td>\n",
       "      <td>time British Airways manage get everything r...</td>\n",
       "    </tr>\n",
       "    <tr>\n",
       "      <th>...</th>\n",
       "      <td>...</td>\n",
       "      <td>...</td>\n",
       "    </tr>\n",
       "    <tr>\n",
       "      <th>1995</th>\n",
       "      <td>Gatwick to Mauritius. 12 hour flight delayed...</td>\n",
       "      <td>Gatwick Mauritius hour flight delay hour due...</td>\n",
       "    </tr>\n",
       "    <tr>\n",
       "      <th>1996</th>\n",
       "      <td>San Diego to London, an excellent flight wit...</td>\n",
       "      <td>San Diego London excellent flight really goo...</td>\n",
       "    </tr>\n",
       "    <tr>\n",
       "      <th>1997</th>\n",
       "      <td>Flew British Airways from London Heathrow to...</td>\n",
       "      <td>Flew British Airways London Heathrow Dubai n...</td>\n",
       "    </tr>\n",
       "    <tr>\n",
       "      <th>1998</th>\n",
       "      <td>Amsterdam to Gatwick was the usual short hau...</td>\n",
       "      <td>Amsterdam Gatwick usual short haul commuter ...</td>\n",
       "    </tr>\n",
       "    <tr>\n",
       "      <th>1999</th>\n",
       "      <td>My last few experiences with British Airways...</td>\n",
       "      <td>last experience British Airways extremely di...</td>\n",
       "    </tr>\n",
       "  </tbody>\n",
       "</table>\n",
       "<p>2000 rows × 2 columns</p>\n",
       "</div>"
      ],
      "text/plain": [
       "                                                reviews  \\\n",
       "0        Flight mainly let down by a disagreeable fl...   \n",
       "1        Another awful experience by British Airways...   \n",
       "2        The service was rude, full of attitude to m...   \n",
       "3        This flight was a joke. There was four peop...   \n",
       "4        This time British Airways managed to get ev...   \n",
       "...                                                 ...   \n",
       "1995    Gatwick to Mauritius. 12 hour flight delayed...   \n",
       "1996    San Diego to London, an excellent flight wit...   \n",
       "1997    Flew British Airways from London Heathrow to...   \n",
       "1998    Amsterdam to Gatwick was the usual short hau...   \n",
       "1999    My last few experiences with British Airways...   \n",
       "\n",
       "                                                  Lemma  \n",
       "0       Flight mainly let disagreeable flight attend...  \n",
       "1       Another awful experience British Airways fli...  \n",
       "2       service rude full attitude food poorly servi...  \n",
       "3       flight joke four people business class inclu...  \n",
       "4       time British Airways manage get everything r...  \n",
       "...                                                 ...  \n",
       "1995    Gatwick Mauritius hour flight delay hour due...  \n",
       "1996    San Diego London excellent flight really goo...  \n",
       "1997    Flew British Airways London Heathrow Dubai n...  \n",
       "1998    Amsterdam Gatwick usual short haul commuter ...  \n",
       "1999    last experience British Airways extremely di...  \n",
       "\n",
       "[2000 rows x 2 columns]"
      ]
     },
     "execution_count": 15,
     "metadata": {},
     "output_type": "execute_result"
    }
   ],
   "source": [
    "dataset=df[['reviews','Lemma']]\n",
    "dataset"
   ]
  },
  {
   "cell_type": "markdown",
   "metadata": {},
   "source": [
    "### Sentiment Analysis using VADER"
   ]
  },
  {
   "cell_type": "code",
   "execution_count": 16,
   "metadata": {},
   "outputs": [
    {
     "name": "stdout",
     "output_type": "stream",
     "text": [
      "Requirement already satisfied: vaderSentiment in c:\\users\\rajas\\appdata\\local\\programs\\python\\python313\\lib\\site-packages (3.3.2)\n",
      "Requirement already satisfied: requests in c:\\users\\rajas\\appdata\\local\\programs\\python\\python313\\lib\\site-packages (from vaderSentiment) (2.32.3)\n",
      "Requirement already satisfied: charset-normalizer<4,>=2 in c:\\users\\rajas\\appdata\\local\\programs\\python\\python313\\lib\\site-packages (from requests->vaderSentiment) (3.4.0)\n",
      "Requirement already satisfied: idna<4,>=2.5 in c:\\users\\rajas\\appdata\\local\\programs\\python\\python313\\lib\\site-packages (from requests->vaderSentiment) (3.10)\n",
      "Requirement already satisfied: urllib3<3,>=1.21.1 in c:\\users\\rajas\\appdata\\local\\programs\\python\\python313\\lib\\site-packages (from requests->vaderSentiment) (2.2.3)\n",
      "Requirement already satisfied: certifi>=2017.4.17 in c:\\users\\rajas\\appdata\\local\\programs\\python\\python313\\lib\\site-packages (from requests->vaderSentiment) (2024.8.30)\n"
     ]
    },
    {
     "name": "stderr",
     "output_type": "stream",
     "text": [
      "\n",
      "[notice] A new release of pip is available: 24.2 -> 25.0.1\n",
      "[notice] To update, run: python.exe -m pip install --upgrade pip\n"
     ]
    }
   ],
   "source": [
    "!pip install vaderSentiment"
   ]
  },
  {
   "cell_type": "code",
   "execution_count": 17,
   "metadata": {},
   "outputs": [],
   "source": [
    "from vaderSentiment.vaderSentiment import SentimentIntensityAnalyzer\n",
    "analyzer = SentimentIntensityAnalyzer()"
   ]
  },
  {
   "cell_type": "code",
   "execution_count": 18,
   "metadata": {},
   "outputs": [
    {
     "name": "stderr",
     "output_type": "stream",
     "text": [
      "C:\\Users\\rajas\\AppData\\Local\\Temp\\ipykernel_22984\\1124255176.py:6: SettingWithCopyWarning: \n",
      "A value is trying to be set on a copy of a slice from a DataFrame.\n",
      "Try using .loc[row_indexer,col_indexer] = value instead\n",
      "\n",
      "See the caveats in the documentation: https://pandas.pydata.org/pandas-docs/stable/user_guide/indexing.html#returning-a-view-versus-a-copy\n",
      "  dataset['Polarity'] = dataset['Lemma'].apply(vadersentimentanalysis)\n"
     ]
    },
    {
     "data": {
      "text/html": [
       "<div>\n",
       "<style scoped>\n",
       "    .dataframe tbody tr th:only-of-type {\n",
       "        vertical-align: middle;\n",
       "    }\n",
       "\n",
       "    .dataframe tbody tr th {\n",
       "        vertical-align: top;\n",
       "    }\n",
       "\n",
       "    .dataframe thead th {\n",
       "        text-align: right;\n",
       "    }\n",
       "</style>\n",
       "<table border=\"1\" class=\"dataframe\">\n",
       "  <thead>\n",
       "    <tr style=\"text-align: right;\">\n",
       "      <th></th>\n",
       "      <th>reviews</th>\n",
       "      <th>Lemma</th>\n",
       "      <th>Polarity</th>\n",
       "    </tr>\n",
       "  </thead>\n",
       "  <tbody>\n",
       "    <tr>\n",
       "      <th>0</th>\n",
       "      <td>Flight mainly let down by a disagreeable fl...</td>\n",
       "      <td>Flight mainly let disagreeable flight attend...</td>\n",
       "      <td>0.8860</td>\n",
       "    </tr>\n",
       "    <tr>\n",
       "      <th>1</th>\n",
       "      <td>Another awful experience by British Airways...</td>\n",
       "      <td>Another awful experience British Airways fli...</td>\n",
       "      <td>-0.8316</td>\n",
       "    </tr>\n",
       "    <tr>\n",
       "      <th>2</th>\n",
       "      <td>The service was rude, full of attitude to m...</td>\n",
       "      <td>service rude full attitude food poorly servi...</td>\n",
       "      <td>-0.6437</td>\n",
       "    </tr>\n",
       "    <tr>\n",
       "      <th>3</th>\n",
       "      <td>This flight was a joke. There was four peop...</td>\n",
       "      <td>flight joke four people business class inclu...</td>\n",
       "      <td>-0.2960</td>\n",
       "    </tr>\n",
       "    <tr>\n",
       "      <th>4</th>\n",
       "      <td>This time British Airways managed to get ev...</td>\n",
       "      <td>time British Airways manage get everything r...</td>\n",
       "      <td>0.9831</td>\n",
       "    </tr>\n",
       "    <tr>\n",
       "      <th>...</th>\n",
       "      <td>...</td>\n",
       "      <td>...</td>\n",
       "      <td>...</td>\n",
       "    </tr>\n",
       "    <tr>\n",
       "      <th>1995</th>\n",
       "      <td>Gatwick to Mauritius. 12 hour flight delayed...</td>\n",
       "      <td>Gatwick Mauritius hour flight delay hour due...</td>\n",
       "      <td>0.8426</td>\n",
       "    </tr>\n",
       "    <tr>\n",
       "      <th>1996</th>\n",
       "      <td>San Diego to London, an excellent flight wit...</td>\n",
       "      <td>San Diego London excellent flight really goo...</td>\n",
       "      <td>0.6590</td>\n",
       "    </tr>\n",
       "    <tr>\n",
       "      <th>1997</th>\n",
       "      <td>Flew British Airways from London Heathrow to...</td>\n",
       "      <td>Flew British Airways London Heathrow Dubai n...</td>\n",
       "      <td>-0.7269</td>\n",
       "    </tr>\n",
       "    <tr>\n",
       "      <th>1998</th>\n",
       "      <td>Amsterdam to Gatwick was the usual short hau...</td>\n",
       "      <td>Amsterdam Gatwick usual short haul commuter ...</td>\n",
       "      <td>0.6908</td>\n",
       "    </tr>\n",
       "    <tr>\n",
       "      <th>1999</th>\n",
       "      <td>My last few experiences with British Airways...</td>\n",
       "      <td>last experience British Airways extremely di...</td>\n",
       "      <td>-0.4201</td>\n",
       "    </tr>\n",
       "  </tbody>\n",
       "</table>\n",
       "<p>2000 rows × 3 columns</p>\n",
       "</div>"
      ],
      "text/plain": [
       "                                                reviews  \\\n",
       "0        Flight mainly let down by a disagreeable fl...   \n",
       "1        Another awful experience by British Airways...   \n",
       "2        The service was rude, full of attitude to m...   \n",
       "3        This flight was a joke. There was four peop...   \n",
       "4        This time British Airways managed to get ev...   \n",
       "...                                                 ...   \n",
       "1995    Gatwick to Mauritius. 12 hour flight delayed...   \n",
       "1996    San Diego to London, an excellent flight wit...   \n",
       "1997    Flew British Airways from London Heathrow to...   \n",
       "1998    Amsterdam to Gatwick was the usual short hau...   \n",
       "1999    My last few experiences with British Airways...   \n",
       "\n",
       "                                                  Lemma  Polarity  \n",
       "0       Flight mainly let disagreeable flight attend...    0.8860  \n",
       "1       Another awful experience British Airways fli...   -0.8316  \n",
       "2       service rude full attitude food poorly servi...   -0.6437  \n",
       "3       flight joke four people business class inclu...   -0.2960  \n",
       "4       time British Airways manage get everything r...    0.9831  \n",
       "...                                                 ...       ...  \n",
       "1995    Gatwick Mauritius hour flight delay hour due...    0.8426  \n",
       "1996    San Diego London excellent flight really goo...    0.6590  \n",
       "1997    Flew British Airways London Heathrow Dubai n...   -0.7269  \n",
       "1998    Amsterdam Gatwick usual short haul commuter ...    0.6908  \n",
       "1999    last experience British Airways extremely di...   -0.4201  \n",
       "\n",
       "[2000 rows x 3 columns]"
      ]
     },
     "execution_count": 18,
     "metadata": {},
     "output_type": "execute_result"
    }
   ],
   "source": [
    "# function to calculate vader sentiment\n",
    "def vadersentimentanalysis(review):\n",
    "    vs = analyzer.polarity_scores(review)\n",
    "    return vs['compound']\n",
    "\n",
    "dataset['Polarity'] = dataset['Lemma'].apply(vadersentimentanalysis)\n",
    "dataset"
   ]
  },
  {
   "cell_type": "code",
   "execution_count": 19,
   "metadata": {},
   "outputs": [
    {
     "data": {
      "text/html": [
       "<div>\n",
       "<style scoped>\n",
       "    .dataframe tbody tr th:only-of-type {\n",
       "        vertical-align: middle;\n",
       "    }\n",
       "\n",
       "    .dataframe tbody tr th {\n",
       "        vertical-align: top;\n",
       "    }\n",
       "\n",
       "    .dataframe thead th {\n",
       "        text-align: right;\n",
       "    }\n",
       "</style>\n",
       "<table border=\"1\" class=\"dataframe\">\n",
       "  <thead>\n",
       "    <tr style=\"text-align: right;\">\n",
       "      <th></th>\n",
       "      <th>reviews</th>\n",
       "      <th>Lemma</th>\n",
       "      <th>Polarity</th>\n",
       "      <th>Sentiment</th>\n",
       "    </tr>\n",
       "  </thead>\n",
       "  <tbody>\n",
       "    <tr>\n",
       "      <th>0</th>\n",
       "      <td>Flight mainly let down by a disagreeable fl...</td>\n",
       "      <td>Flight mainly let disagreeable flight attend...</td>\n",
       "      <td>0.8860</td>\n",
       "      <td>Positive</td>\n",
       "    </tr>\n",
       "    <tr>\n",
       "      <th>1</th>\n",
       "      <td>Another awful experience by British Airways...</td>\n",
       "      <td>Another awful experience British Airways fli...</td>\n",
       "      <td>-0.8316</td>\n",
       "      <td>Negative</td>\n",
       "    </tr>\n",
       "    <tr>\n",
       "      <th>2</th>\n",
       "      <td>The service was rude, full of attitude to m...</td>\n",
       "      <td>service rude full attitude food poorly servi...</td>\n",
       "      <td>-0.6437</td>\n",
       "      <td>Negative</td>\n",
       "    </tr>\n",
       "    <tr>\n",
       "      <th>3</th>\n",
       "      <td>This flight was a joke. There was four peop...</td>\n",
       "      <td>flight joke four people business class inclu...</td>\n",
       "      <td>-0.2960</td>\n",
       "      <td>Negative</td>\n",
       "    </tr>\n",
       "    <tr>\n",
       "      <th>4</th>\n",
       "      <td>This time British Airways managed to get ev...</td>\n",
       "      <td>time British Airways manage get everything r...</td>\n",
       "      <td>0.9831</td>\n",
       "      <td>Positive</td>\n",
       "    </tr>\n",
       "  </tbody>\n",
       "</table>\n",
       "</div>"
      ],
      "text/plain": [
       "                                             reviews  \\\n",
       "0     Flight mainly let down by a disagreeable fl...   \n",
       "1     Another awful experience by British Airways...   \n",
       "2     The service was rude, full of attitude to m...   \n",
       "3     This flight was a joke. There was four peop...   \n",
       "4     This time British Airways managed to get ev...   \n",
       "\n",
       "                                               Lemma  Polarity Sentiment  \n",
       "0    Flight mainly let disagreeable flight attend...    0.8860  Positive  \n",
       "1    Another awful experience British Airways fli...   -0.8316  Negative  \n",
       "2    service rude full attitude food poorly servi...   -0.6437  Negative  \n",
       "3    flight joke four people business class inclu...   -0.2960  Negative  \n",
       "4    time British Airways manage get everything r...    0.9831  Positive  "
      ]
     },
     "execution_count": 19,
     "metadata": {},
     "output_type": "execute_result"
    }
   ],
   "source": [
    "# function to analyse\n",
    "def vader_analysis(compound):\n",
    "    if compound >= 0.5:\n",
    "        return 'Positive'\n",
    "    elif compound < 0 :\n",
    "        return 'Negative'\n",
    "    else:\n",
    "        return 'Neutral'\n",
    "    \n",
    "dataset['Sentiment'] = dataset['Polarity'].apply(vader_analysis)\n",
    "dataset.head()"
   ]
  },
  {
   "cell_type": "code",
   "execution_count": 21,
   "metadata": {},
   "outputs": [
    {
     "data": {
      "text/plain": [
       "Sentiment\n",
       "Positive    994\n",
       "Negative    772\n",
       "Neutral     234\n",
       "Name: count, dtype: int64"
      ]
     },
     "execution_count": 21,
     "metadata": {},
     "output_type": "execute_result"
    }
   ],
   "source": [
    "vader_counts = dataset['Sentiment'].value_counts()\n",
    "vader_counts"
   ]
  },
  {
   "cell_type": "markdown",
   "metadata": {},
   "source": [
    "### Visual Representation"
   ]
  },
  {
   "cell_type": "code",
   "execution_count": 23,
   "metadata": {},
   "outputs": [
    {
     "data": {
      "text/plain": [
       "([<matplotlib.patches.Wedge at 0x24aaa62a660>,\n",
       "  <matplotlib.patches.Wedge at 0x24aaa6d5590>,\n",
       "  <matplotlib.patches.Wedge at 0x24aaa6d5950>],\n",
       " [Text(0.010367084643158017, 1.0999511459860396, 'Positive'),\n",
       "  Text(-0.4049366651053209, -1.0227542702200667, 'Negative'),\n",
       "  Text(1.2598264513097388, -0.48511577234749936, 'Neutral')],\n",
       " [Text(0.005654773441722554, 0.5999733523560214, '49.7%'),\n",
       "  Text(-0.2208745446029023, -0.5578659655745818, '38.6%'),\n",
       "  Text(0.7932240619357613, -0.3054432640706477, '11.7%')])"
      ]
     },
     "execution_count": 23,
     "metadata": {},
     "output_type": "execute_result"
    },
    {
     "data": {
      "image/png": "[encoded data removed]",
      "text/plain": [
       "<Figure size 1500x700 with 1 Axes>"
      ]
     },
     "metadata": {},
     "output_type": "display_data"
    }
   ],
   "source": [
    "import matplotlib.pyplot as plt\n",
    "%matplotlib inline\n",
    "plt.figure(figsize=(15,7))\n",
    "\n",
    "plt.subplot(1,3,2)\n",
    "plt.title(\"Reviews Analysis\")\n",
    "plt.pie(vader_counts.values, labels = vader_counts.index, explode = (0, 0, 0.25), autopct='%1.1f%%', shadow=False)"
   ]
  },
  {
   "cell_type": "code",
   "execution_count": 24,
   "metadata": {},
   "outputs": [],
   "source": [
    "df.to_csv(\"BA_reviews.csv\")"
   ]
  }
 ],
 "metadata": {
  "kernelspec": {
   "display_name": "Python 3",
   "language": "python",
   "name": "python3"
  },
  "language_info": {
   "codemirror_mode": {
    "name": "ipython",
    "version": 3
   },
   "file_extension": ".py",
   "mimetype": "text/x-python",
   "name": "python",
   "nbconvert_exporter": "python",
   "pygments_lexer": "ipython3",
   "version": "3.13.0"
  }
 },
 "nbformat": 4,
 "nbformat_minor": 2
}
